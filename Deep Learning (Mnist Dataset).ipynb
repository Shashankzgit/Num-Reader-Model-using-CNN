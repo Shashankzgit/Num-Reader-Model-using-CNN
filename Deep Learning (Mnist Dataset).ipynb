{
 "cells": [
  {
   "cell_type": "code",
   "execution_count": 35,
   "metadata": {},
   "outputs": [
    {
     "data": {
      "text/plain": [
       "'2.1.0'"
      ]
     },
     "execution_count": 35,
     "metadata": {},
     "output_type": "execute_result"
    }
   ],
   "source": [
    "import tensorflow as tf\n",
    "tf.__version__"
   ]
  },
  {
   "cell_type": "code",
   "execution_count": 36,
   "metadata": {},
   "outputs": [],
   "source": [
    "mnist= tf.keras.datasets.mnist # 28 x 28 images of handwritten Digits 0-9"
   ]
  },
  {
   "cell_type": "markdown",
   "metadata": {},
   "source": [
    "### MODEL ARCHITECTURE:"
   ]
  },
  {
   "cell_type": "code",
   "execution_count": 37,
   "metadata": {
    "scrolled": true
   },
   "outputs": [
    {
     "name": "stdout",
     "output_type": "stream",
     "text": [
      "Train on 60000 samples\n",
      "Epoch 1/3\n",
      "60000/60000 [==============================] - 6s 99us/sample - loss: 0.2563 - accuracy: 0.9254\n",
      "Epoch 2/3\n",
      "60000/60000 [==============================] - 5s 91us/sample - loss: 0.1057 - accuracy: 0.9676\n",
      "Epoch 3/3\n",
      "60000/60000 [==============================] - 5s 85us/sample - loss: 0.0712 - accuracy: 0.9779\n"
     ]
    },
    {
     "data": {
      "text/plain": [
       "<tensorflow.python.keras.callbacks.History at 0x2839df0b8c8>"
      ]
     },
     "execution_count": 37,
     "metadata": {},
     "output_type": "execute_result"
    }
   ],
   "source": [
    "(X_train,Y_train),(X_test, Y_test)= mnist.load_data()\n",
    "\n",
    "X_train = tf.keras.utils.normalize(X_train,axis=1)\n",
    "X_test = tf.keras.utils.normalize(X_test,axis=1)\n",
    "\n",
    "#1. We'll building a model below Sequential is type of model this is most common one its free flow like images in fig.\n",
    "#2. we use .Add fn with layer called flattent to reduce the 28x28 multidimentional format for ease of nueral networks\n",
    "#3. we are making hidden layers in nn which is Dense type so .Dense(no. of nuerons,Trigger Type)\n",
    "#4. Adding Another Hidden Layer in NN.\n",
    "#5.Now Adding an output Layer in NN here we dont use dense(no.of nuerons) insted dense(no.of prob dist.) which is10\n",
    "\n",
    "#Building the model:\n",
    "model = tf.keras.models.Sequential()\n",
    "model.add(tf.keras.layers.Flatten()) #This is input layes in NN\n",
    "model.add(tf.keras.layers.Dense( 128, activation=tf.nn.relu))   #Rectified Linear\n",
    "model.add(tf.keras.layers.Dense( 128, activation=tf.nn.relu))\n",
    "model.add(tf.keras.layers.Dense( 10, activation=tf.nn.softmax)) #and we use trigger as Softmax for propabilty dist.\n",
    "#So above we defined the architechture of the model.\n",
    "          \n",
    "          \n",
    "#Now we need to Define some parameters used for the training of the model.\n",
    "#Loss is the error rate in network which is imp. as netwoks always...\n",
    "#...gives priority to reducing loss than increasing the accuracy.\n",
    "          \n",
    "model.compile(optimizer='adam',                        #we are using the optimizer Adam which the most common type.\n",
    "              loss='sparse_categorical_crossentropy',  #we are using Spares in this case for cat vs dog we can use binary\n",
    "             metrics=['accuracy'])\n",
    "          \n",
    "#Fitting the model:\n",
    "model.fit(X_train,Y_train,epochs=3)\n"
   ]
  },
  {
   "cell_type": "markdown",
   "metadata": {},
   "source": [
    "### EVALUATION:"
   ]
  },
  {
   "cell_type": "code",
   "execution_count": 38,
   "metadata": {},
   "outputs": [
    {
     "name": "stdout",
     "output_type": "stream",
     "text": [
      "10000/10000 [==============================] - 1s 59us/sample - loss: 0.0988 - accuracy: 0.9700\n",
      "0.09881674973331392 0.97\n"
     ]
    }
   ],
   "source": [
    "#Nueral networks tends to overfit so to ensure accuracy we check validation score.\n",
    "\n",
    "\n",
    "val_loss,val_acc=model.evaluate(X_test,Y_test)\n",
    "print(val_loss,val_acc)\n",
    "#here our loss=0.094 > epoch3 loss and acc=0.970 < epoch3 acc\n",
    "#This diff should be slightly in nature if it to far thes its overfit"
   ]
  },
  {
   "cell_type": "markdown",
   "metadata": {},
   "source": [
    "### MODEL PREDICTIONS:"
   ]
  },
  {
   "cell_type": "code",
   "execution_count": 41,
   "metadata": {
    "scrolled": true
   },
   "outputs": [
    {
     "data": {
      "text/plain": [
       "array([5.2163568e-08, 2.1122693e-04, 9.9978763e-01, 7.7670256e-07,\n",
       "       7.2940060e-10, 1.3441074e-07, 3.0438159e-09, 6.4192641e-08,\n",
       "       4.5394895e-08, 9.4931663e-10], dtype=float32)"
      ]
     },
     "execution_count": 41,
     "metadata": {},
     "output_type": "execute_result"
    }
   ],
   "source": [
    "pred= model.predict([X_test])\n",
    "pred[1]"
   ]
  },
  {
   "cell_type": "code",
   "execution_count": 52,
   "metadata": {},
   "outputs": [
    {
     "name": "stdout",
     "output_type": "stream",
     "text": [
      "2\n"
     ]
    }
   ],
   "source": [
    "import numpy as np\n",
    "print (np.argmax(pred[1]))"
   ]
  },
  {
   "cell_type": "markdown",
   "metadata": {},
   "source": [
    "### TRUE VALUE FROM DATA :"
   ]
  },
  {
   "cell_type": "code",
   "execution_count": 43,
   "metadata": {
    "scrolled": true
   },
   "outputs": [
    {
     "data": {
      "image/png": "[encoded data removed]",
      "text/plain": [
       "<Figure size 432x288 with 1 Axes>"
      ]
     },
     "metadata": {
      "needs_background": "light"
     },
     "output_type": "display_data"
    }
   ],
   "source": [
    "plt.imshow(X_test[1])\n",
    "plt.show()"
   ]
  }
 ],
 "metadata": {
  "kernelspec": {
   "display_name": "Python 3",
   "language": "python",
   "name": "python3"
  },
  "language_info": {
   "codemirror_mode": {
    "name": "ipython",
    "version": 3
   },
   "file_extension": ".py",
   "mimetype": "text/x-python",
   "name": "python",
   "nbconvert_exporter": "python",
   "pygments_lexer": "ipython3",
   "version": "3.7.7"
  }
 },
 "nbformat": 4,
 "nbformat_minor": 4
}
